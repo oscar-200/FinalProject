{
 "cells": [
  {
   "cell_type": "markdown",
   "metadata": {},
   "source": [
    "# Final project\n",
    "\n",
    "**Name:** Oscar Beltran Villegas\n",
    "\n",
    "**e-mail:** oscar.beltran7944@alumnos.udg.mx"
   ]
  }
 ],
 "metadata": {
  "language_info": {
   "name": "python"
  }
 },
 "nbformat": 4,
 "nbformat_minor": 2
}
